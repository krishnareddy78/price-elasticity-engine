{
 "cells": [
  {
   "cell_type": "markdown",
   "metadata": {},
   "source": [
    "# Full Workflow: Advanced Price Engine\n",
    "\n",
    "This notebook demonstrates the complete workflow of the Advanced Price Engine, from simulating data to getting a profit-optimizing price recommendation via the API for multiple models."
   ]
  },
  {
   "cell_type": "code",
   "execution_count": null,
   "metadata": {},
   "outputs": [],
   "source": [
    "import pandas as pd\n",
    "import numpy as np\n",
    "import matplotlib.pyplot as plt\n",
    "import seaborn as sns\n",
    "import requests\n",
    "import json\n",
    "sns.set_theme(style=\"whitegrid\")"
   ]
  },
  {
   "cell_type": "markdown",
   "metadata": {},
   "source": [
    "## 1. Interact with the Live API\n",
    "\n",
    "Let's assume the API is running (e.g., via `docker-compose up`). We can query its endpoints to get model details and optimization results."
   ]
  },
  {
   "cell_type": "code",
   "execution_count": null,
   "metadata": {},
   "outputs": [],
   "source": [
    "BASE_URL = \"http://localhost:8000\"\n",
    "\n",
    "try:\n",
    "    # First, let's see which models are available\n",
    "    response = requests.get(f\"{BASE_URL}/models\")\n",
    "    response.raise_for_status()\n",
    "    available_models = response.json()\n",
    "    print(\"--- Available Models and Elasticities ---\")\n",
    "    print(json.dumps(available_models, indent=2))\n",
    "except requests.exceptions.ConnectionError as e:\n",
    "    print(f\"Could not connect to the API at {BASE_URL}. Please ensure it is running.\")"
   ]
  },
  {
   "cell_type": "markdown",
   "metadata": {},
   "source": [
    "## 2. Get Profit Optimization Results\n",
    "\n",
    "Now, let's ask the API to find the optimal price for a product with a marginal cost of $8, searching for a price between $15 and $30."
   ]
  },
  {
   "cell_type": "code",
   "execution_count": null,
   "metadata": {},
   "outputs": [],
   "source": [
    "OPTIMIZE_URL = f\"{BASE_URL}/optimize-profit\"\n",
    "MARGINAL_COST = 8.0\n",
    "PRICE_RANGE = (15.0, 30.0)\n",
    "\n",
    "if 'available_models' in locals():\n",
    "    for model_name in available_models:\n",
    "        params = {\n",
    "            'model_name': model_name,\n",
    "            'marginal_cost': MARGINAL_COST,\n",
    "            'min_price': PRICE_RANGE[0],\n",
    "            'max_price': PRICE_RANGE[1]\n",
    "        }\n",
    "        try:\n",
    "            response = requests.post(OPTIMIZE_URL, params=params)\n",
    "            response.raise_for_status() \n",
    "            recommendation = response.json()\n",
    "            print(f\"\\n--- Optimization Result from '{model_name.upper()}' Model ---\")\n",
    "            print(json.dumps(recommendation, indent=2))\n",
    "        except requests.exceptions.HTTPError as e:\n",
    "            print(f\"API returned an error for model {model_name}: {e.response.status_code} {e.response.text}\")"
   ]
  }
 ],
 "metadata": {
  "kernelspec": {
   "display_name": "Python 3",
   "language": "python",
   "name": "python3"
  },
  "language_info": {
   "name": "python"
  }
 },
 "nbformat": 4,
 "nbformat_minor": 4
}
